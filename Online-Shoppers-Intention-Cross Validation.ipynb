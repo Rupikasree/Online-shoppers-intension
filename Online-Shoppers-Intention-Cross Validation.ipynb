{
 "cells": [
  {
   "cell_type": "code",
   "execution_count": 1,
   "metadata": {},
   "outputs": [
    {
     "name": "stderr",
     "output_type": "stream",
     "text": [
      "Using TensorFlow backend.\n"
     ]
    }
   ],
   "source": [
    "import os\n",
    "import warnings\n",
    "warnings.filterwarnings('ignore')\n",
    "\n",
    "# Basics\n",
    "import numpy as np\n",
    "import pandas as pd\n",
    "\n",
    "# Plots\n",
    "import matplotlib.pyplot as plt\n",
    "import seaborn as sns\n",
    "\n",
    "# Preprocessing\n",
    "from sklearn.preprocessing import LabelEncoder\n",
    "\n",
    "# Train Test Split\n",
    "from sklearn.model_selection import train_test_split,GridSearchCV,cross_val_score,KFold\n",
    "\n",
    "# Imbalanced Dataset\n",
    "from imblearn.over_sampling import SMOTE\n",
    "\n",
    "# Standard Scaler\n",
    "from sklearn.preprocessing import StandardScaler\n",
    "\n",
    "# Machine Learning Models\n",
    "from sklearn.linear_model import LogisticRegression\n",
    "from sklearn.tree import DecisionTreeClassifier\n",
    "from sklearn.ensemble import RandomForestClassifier\n",
    "from sklearn.neighbors import KNeighborsClassifier\n",
    "from sklearn.naive_bayes import GaussianNB\n",
    "\n",
    "# Metrics\n",
    "from sklearn.metrics import accuracy_score,precision_score,recall_score,f1_score,confusion_matrix,roc_auc_score"
   ]
  },
  {
   "cell_type": "code",
   "execution_count": 2,
   "metadata": {},
   "outputs": [
    {
     "data": {
      "text/html": [
       "<div>\n",
       "<style scoped>\n",
       "    .dataframe tbody tr th:only-of-type {\n",
       "        vertical-align: middle;\n",
       "    }\n",
       "\n",
       "    .dataframe tbody tr th {\n",
       "        vertical-align: top;\n",
       "    }\n",
       "\n",
       "    .dataframe thead th {\n",
       "        text-align: right;\n",
       "    }\n",
       "</style>\n",
       "<table border=\"1\" class=\"dataframe\">\n",
       "  <thead>\n",
       "    <tr style=\"text-align: right;\">\n",
       "      <th></th>\n",
       "      <th>Administrative</th>\n",
       "      <th>Administrative_Duration</th>\n",
       "      <th>Informational</th>\n",
       "      <th>Informational_Duration</th>\n",
       "      <th>ProductRelated</th>\n",
       "      <th>ProductRelated_Duration</th>\n",
       "      <th>BounceRates</th>\n",
       "      <th>ExitRates</th>\n",
       "      <th>PageValues</th>\n",
       "      <th>SpecialDay</th>\n",
       "      <th>Month</th>\n",
       "      <th>OperatingSystems</th>\n",
       "      <th>Browser</th>\n",
       "      <th>Region</th>\n",
       "      <th>TrafficType</th>\n",
       "      <th>VisitorType</th>\n",
       "      <th>Weekend</th>\n",
       "      <th>Revenue</th>\n",
       "    </tr>\n",
       "  </thead>\n",
       "  <tbody>\n",
       "    <tr>\n",
       "      <th>0</th>\n",
       "      <td>0</td>\n",
       "      <td>0.0</td>\n",
       "      <td>0</td>\n",
       "      <td>0.0</td>\n",
       "      <td>1</td>\n",
       "      <td>0.000000</td>\n",
       "      <td>0.20</td>\n",
       "      <td>0.20</td>\n",
       "      <td>0.0</td>\n",
       "      <td>0.0</td>\n",
       "      <td>Feb</td>\n",
       "      <td>1</td>\n",
       "      <td>1</td>\n",
       "      <td>1</td>\n",
       "      <td>1</td>\n",
       "      <td>Returning_Visitor</td>\n",
       "      <td>False</td>\n",
       "      <td>False</td>\n",
       "    </tr>\n",
       "    <tr>\n",
       "      <th>1</th>\n",
       "      <td>0</td>\n",
       "      <td>0.0</td>\n",
       "      <td>0</td>\n",
       "      <td>0.0</td>\n",
       "      <td>2</td>\n",
       "      <td>64.000000</td>\n",
       "      <td>0.00</td>\n",
       "      <td>0.10</td>\n",
       "      <td>0.0</td>\n",
       "      <td>0.0</td>\n",
       "      <td>Feb</td>\n",
       "      <td>2</td>\n",
       "      <td>2</td>\n",
       "      <td>1</td>\n",
       "      <td>2</td>\n",
       "      <td>Returning_Visitor</td>\n",
       "      <td>False</td>\n",
       "      <td>False</td>\n",
       "    </tr>\n",
       "    <tr>\n",
       "      <th>2</th>\n",
       "      <td>0</td>\n",
       "      <td>0.0</td>\n",
       "      <td>0</td>\n",
       "      <td>0.0</td>\n",
       "      <td>1</td>\n",
       "      <td>0.000000</td>\n",
       "      <td>0.20</td>\n",
       "      <td>0.20</td>\n",
       "      <td>0.0</td>\n",
       "      <td>0.0</td>\n",
       "      <td>Feb</td>\n",
       "      <td>4</td>\n",
       "      <td>1</td>\n",
       "      <td>9</td>\n",
       "      <td>3</td>\n",
       "      <td>Returning_Visitor</td>\n",
       "      <td>False</td>\n",
       "      <td>False</td>\n",
       "    </tr>\n",
       "    <tr>\n",
       "      <th>3</th>\n",
       "      <td>0</td>\n",
       "      <td>0.0</td>\n",
       "      <td>0</td>\n",
       "      <td>0.0</td>\n",
       "      <td>2</td>\n",
       "      <td>2.666667</td>\n",
       "      <td>0.05</td>\n",
       "      <td>0.14</td>\n",
       "      <td>0.0</td>\n",
       "      <td>0.0</td>\n",
       "      <td>Feb</td>\n",
       "      <td>3</td>\n",
       "      <td>2</td>\n",
       "      <td>2</td>\n",
       "      <td>4</td>\n",
       "      <td>Returning_Visitor</td>\n",
       "      <td>False</td>\n",
       "      <td>False</td>\n",
       "    </tr>\n",
       "    <tr>\n",
       "      <th>4</th>\n",
       "      <td>0</td>\n",
       "      <td>0.0</td>\n",
       "      <td>0</td>\n",
       "      <td>0.0</td>\n",
       "      <td>10</td>\n",
       "      <td>627.500000</td>\n",
       "      <td>0.02</td>\n",
       "      <td>0.05</td>\n",
       "      <td>0.0</td>\n",
       "      <td>0.0</td>\n",
       "      <td>Feb</td>\n",
       "      <td>3</td>\n",
       "      <td>3</td>\n",
       "      <td>1</td>\n",
       "      <td>4</td>\n",
       "      <td>Returning_Visitor</td>\n",
       "      <td>True</td>\n",
       "      <td>False</td>\n",
       "    </tr>\n",
       "  </tbody>\n",
       "</table>\n",
       "</div>"
      ],
      "text/plain": [
       "   Administrative  Administrative_Duration  Informational  \\\n",
       "0               0                      0.0              0   \n",
       "1               0                      0.0              0   \n",
       "2               0                      0.0              0   \n",
       "3               0                      0.0              0   \n",
       "4               0                      0.0              0   \n",
       "\n",
       "   Informational_Duration  ProductRelated  ProductRelated_Duration  \\\n",
       "0                     0.0               1                 0.000000   \n",
       "1                     0.0               2                64.000000   \n",
       "2                     0.0               1                 0.000000   \n",
       "3                     0.0               2                 2.666667   \n",
       "4                     0.0              10               627.500000   \n",
       "\n",
       "   BounceRates  ExitRates  PageValues  SpecialDay Month  OperatingSystems  \\\n",
       "0         0.20       0.20         0.0         0.0   Feb                 1   \n",
       "1         0.00       0.10         0.0         0.0   Feb                 2   \n",
       "2         0.20       0.20         0.0         0.0   Feb                 4   \n",
       "3         0.05       0.14         0.0         0.0   Feb                 3   \n",
       "4         0.02       0.05         0.0         0.0   Feb                 3   \n",
       "\n",
       "   Browser  Region  TrafficType        VisitorType  Weekend  Revenue  \n",
       "0        1       1            1  Returning_Visitor    False    False  \n",
       "1        2       1            2  Returning_Visitor    False    False  \n",
       "2        1       9            3  Returning_Visitor    False    False  \n",
       "3        2       2            4  Returning_Visitor    False    False  \n",
       "4        3       1            4  Returning_Visitor     True    False  "
      ]
     },
     "execution_count": 2,
     "metadata": {},
     "output_type": "execute_result"
    }
   ],
   "source": [
    "data=pd.read_csv('online_shoppers_intention.csv')\n",
    "data.head()"
   ]
  },
  {
   "cell_type": "code",
   "execution_count": 3,
   "metadata": {},
   "outputs": [
    {
     "data": {
      "text/plain": [
       "0    10422\n",
       "1     1908\n",
       "Name: Revenue, dtype: int64"
      ]
     },
     "execution_count": 3,
     "metadata": {},
     "output_type": "execute_result"
    }
   ],
   "source": [
    "le = LabelEncoder()\n",
    "data['Revenue'] = le.fit_transform(data['Revenue'])\n",
    "data['Revenue'].value_counts()"
   ]
  },
  {
   "cell_type": "code",
   "execution_count": 4,
   "metadata": {},
   "outputs": [
    {
     "data": {
      "text/plain": [
       "6    3364\n",
       "7    2998\n",
       "5    1907\n",
       "1    1727\n",
       "8     549\n",
       "9     448\n",
       "0     433\n",
       "3     432\n",
       "4     288\n",
       "2     184\n",
       "Name: Month, dtype: int64"
      ]
     },
     "execution_count": 4,
     "metadata": {},
     "output_type": "execute_result"
    }
   ],
   "source": [
    "le = LabelEncoder()\n",
    "data['Month'] = le.fit_transform(data['Month'])\n",
    "data['Month'].value_counts()"
   ]
  },
  {
   "cell_type": "code",
   "execution_count": 5,
   "metadata": {},
   "outputs": [
    {
     "data": {
      "text/plain": [
       "2    10551\n",
       "0     1694\n",
       "1       85\n",
       "Name: VisitorType, dtype: int64"
      ]
     },
     "execution_count": 5,
     "metadata": {},
     "output_type": "execute_result"
    }
   ],
   "source": [
    "le = LabelEncoder()\n",
    "data['VisitorType'] = le.fit_transform(data['VisitorType'])\n",
    "data['VisitorType'].value_counts()"
   ]
  },
  {
   "cell_type": "code",
   "execution_count": 6,
   "metadata": {},
   "outputs": [
    {
     "data": {
      "text/plain": [
       "0    9462\n",
       "1    2868\n",
       "Name: Weekend, dtype: int64"
      ]
     },
     "execution_count": 6,
     "metadata": {},
     "output_type": "execute_result"
    }
   ],
   "source": [
    "le = LabelEncoder()\n",
    "data['Weekend'] = le.fit_transform(data['Weekend'])\n",
    "data['Weekend'].value_counts()"
   ]
  },
  {
   "cell_type": "code",
   "execution_count": 7,
   "metadata": {},
   "outputs": [],
   "source": [
    "y=data['Revenue']\n",
    "X=data.drop(['Revenue','Region','Administrative','Informational','ProductRelated','BounceRates'],axis=1)\n",
    "#X_train, X_test, y_train, y_test = train_test_split(X, y, test_size=0.25, random_state=42)"
   ]
  },
  {
   "cell_type": "code",
   "execution_count": 8,
   "metadata": {},
   "outputs": [],
   "source": [
    "sc=StandardScaler()\n",
    "# X_train=sc.fit_transform(X_train)\n",
    "# X_test=sc.transform(X_test)\n",
    "X_std=sc.fit_transform(X)"
   ]
  },
  {
   "cell_type": "markdown",
   "metadata": {},
   "source": [
    "## Cross-Validation"
   ]
  },
  {
   "cell_type": "markdown",
   "metadata": {},
   "source": [
    "## Logistic Regression"
   ]
  },
  {
   "cell_type": "code",
   "execution_count": 10,
   "metadata": {},
   "outputs": [
    {
     "name": "stdout",
     "output_type": "stream",
     "text": [
      "For fold 1:\n",
      "Accuracy: 93.43065693430657\n",
      "Precision: 61.49068322981367\n",
      "Recall: 83.89830508474576\n",
      "AUC: 89.16888348407693\n",
      "f1-score: 70.96774193548387\n",
      "\n",
      "\n",
      "For fold 2:\n",
      "Accuracy: 90.95701540957015\n",
      "Precision: 54.48275862068965\n",
      "Recall: 90.45801526717557\n",
      "AUC: 90.7371746027348\n",
      "f1-score: 68.00573888091822\n",
      "\n",
      "\n",
      "For fold 3:\n",
      "Accuracy: 80.12976480129764\n",
      "Precision: 43.72163388804841\n",
      "Recall: 71.007371007371\n",
      "AUC: 76.47017409037807\n",
      "f1-score: 54.11985018726592\n",
      "\n",
      "\n",
      "For fold 4:\n",
      "Accuracy: 84.30656934306569\n",
      "Precision: 60.70175438596491\n",
      "Recall: 67.97642436149313\n",
      "AUC: 78.26516670297447\n",
      "f1-score: 64.13345690454125\n",
      "\n",
      "\n",
      "For fold 5:\n",
      "Accuracy: 85.32035685320358\n",
      "Precision: 62.547528517110266\n",
      "Recall: 66.59919028340082\n",
      "AUC: 78.30466613561522\n",
      "f1-score: 64.50980392156862\n",
      "\n",
      "\n"
     ]
    }
   ],
   "source": [
    "kf = KFold(n_splits=5)\n",
    "\n",
    "for fold, (train_index, test_index) in enumerate(kf.split(X_std), 1):\n",
    "    X_train = X_std[train_index]\n",
    "    y_train = y[train_index] \n",
    "    X_test = X_std[test_index]\n",
    "    y_test = y[test_index]  \n",
    "    sm = SMOTE(random_state=42)\n",
    "    X_train_oversampled, y_train_oversampled = sm.fit_sample(X_train,y_train)\n",
    "    model = LogisticRegression(random_state=0)\n",
    "    model.fit(X_train_oversampled, y_train_oversampled)  \n",
    "    y_pred = model.predict(X_test)\n",
    "    print(f'For fold {fold}:')\n",
    "    print(f'Accuracy: {model.score(X_test, y_test)*100}')\n",
    "    print(f'Precision: {precision_score(y_test,y_pred)*100}')\n",
    "    print(f'Recall: {recall_score(y_test,y_pred)*100}')\n",
    "    print(f'AUC: {roc_auc_score(y_test,y_pred)*100}')\n",
    "    print(f'f1-score: {f1_score(y_test, y_pred)*100}')\n",
    "    print('\\n')"
   ]
  },
  {
   "cell_type": "code",
   "execution_count": 11,
   "metadata": {},
   "outputs": [
    {
     "name": "stdout",
     "output_type": "stream",
     "text": [
      "Mean : 0.8259000000000001\n",
      "Variance : 0.004605995\n"
     ]
    }
   ],
   "source": [
    "auc=[.7830,.7827,.7647,.9074,.8917]\n",
    "lr_auc_mean=np.mean(auc)\n",
    "lr_auc_var=np.var(auc,ddof=1)\n",
    "print('Mean :',lr_auc_mean)\n",
    "print('Variance :',lr_auc_var)"
   ]
  },
  {
   "cell_type": "markdown",
   "metadata": {},
   "source": [
    "## Decision Tree"
   ]
  },
  {
   "cell_type": "code",
   "execution_count": 12,
   "metadata": {},
   "outputs": [
    {
     "name": "stdout",
     "output_type": "stream",
     "text": [
      "For fold 1:\n",
      "Accuracy: 93.7956204379562\n",
      "Precision: 60.66838046272493\n",
      "Recall: 100.0\n",
      "AUC: 96.5695067264574\n",
      "f1-score: 75.52\n",
      "\n",
      "\n",
      "For fold 2:\n",
      "Accuracy: 89.213300892133\n",
      "Precision: 49.621212121212125\n",
      "Recall: 100.0\n",
      "AUC: 93.9655172413793\n",
      "f1-score: 66.32911392405065\n",
      "\n",
      "\n",
      "For fold 3:\n",
      "Accuracy: 83.45498783454988\n",
      "Precision: 49.924585218702866\n",
      "Recall: 81.32678132678133\n",
      "AUC: 82.60122456334209\n",
      "f1-score: 61.86915887850467\n",
      "\n",
      "\n",
      "For fold 4:\n",
      "Accuracy: 85.07704785077048\n",
      "Precision: 61.88870151770658\n",
      "Recall: 72.10216110019645\n",
      "AUC: 80.27693645198887\n",
      "f1-score: 66.60617059891108\n",
      "\n",
      "\n",
      "For fold 5:\n",
      "Accuracy: 80.0081103000811\n",
      "Precision: 50.070921985815595\n",
      "Recall: 71.45748987854252\n",
      "AUC: 76.8037956492104\n",
      "f1-score: 58.88240200166804\n",
      "\n",
      "\n"
     ]
    }
   ],
   "source": [
    "kf = KFold(n_splits=5)\n",
    "\n",
    "for fold, (train_index, test_index) in enumerate(kf.split(X_std), 1):\n",
    "    X_train = X_std[train_index]\n",
    "    y_train = y[train_index] \n",
    "    X_test = X_std[test_index]\n",
    "    y_test = y[test_index]  \n",
    "    sm = SMOTE(random_state=42)\n",
    "    X_train_oversampled, y_train_oversampled = sm.fit_sample(X_train,y_train)\n",
    "    model = DecisionTreeClassifier(random_state=0,criterion='gini',max_depth=5,max_features='auto',splitter='best')\n",
    "    model.fit(X_train_oversampled, y_train_oversampled)  \n",
    "    y_pred = model.predict(X_test)\n",
    "    print(f'For fold {fold}:')\n",
    "    print(f'Accuracy: {model.score(X_test, y_test)*100}')\n",
    "    print(f'Precision: {precision_score(y_test,y_pred)*100}')\n",
    "    print(f'Recall: {recall_score(y_test,y_pred)*100}')\n",
    "    print(f'AUC: {roc_auc_score(y_test,y_pred)*100}')\n",
    "    print(f'f1-score: {f1_score(y_test, y_pred)*100}')\n",
    "    print('\\n')"
   ]
  },
  {
   "cell_type": "code",
   "execution_count": 13,
   "metadata": {},
   "outputs": [
    {
     "name": "stdout",
     "output_type": "stream",
     "text": [
      "Mean : 0.86044\n",
      "Variance : 0.007603863000000001\n"
     ]
    }
   ],
   "source": [
    "auc=[.7680,.8028,.8260,.9397,.9657]\n",
    "dt_auc_mean=np.mean(auc)\n",
    "dt_auc_var=np.var(auc,ddof=1)\n",
    "print('Mean :',dt_auc_mean)\n",
    "print('Variance :',dt_auc_var)"
   ]
  },
  {
   "cell_type": "markdown",
   "metadata": {},
   "source": [
    "## Random Forest"
   ]
  },
  {
   "cell_type": "code",
   "execution_count": 14,
   "metadata": {},
   "outputs": [
    {
     "name": "stdout",
     "output_type": "stream",
     "text": [
      "For fold 1:\n",
      "Accuracy: 94.52554744525547\n",
      "Precision: 64.38746438746439\n",
      "Recall: 95.76271186440678\n",
      "AUC: 95.07866534924375\n",
      "f1-score: 77.00170357751279\n",
      "\n",
      "\n",
      "For fold 2:\n",
      "Accuracy: 89.57826439578265\n",
      "Precision: 50.487329434697855\n",
      "Recall: 98.85496183206108\n",
      "AUC: 93.66523046231002\n",
      "f1-score: 66.83870967741936\n",
      "\n",
      "\n",
      "For fold 3:\n",
      "Accuracy: 84.79318734793188\n",
      "Precision: 52.58899676375405\n",
      "Recall: 79.85257985257985\n",
      "AUC: 82.81118550666875\n",
      "f1-score: 63.414634146341456\n",
      "\n",
      "\n",
      "For fold 4:\n",
      "Accuracy: 84.18491484184915\n",
      "Precision: 59.61227786752828\n",
      "Recall: 72.4950884086444\n",
      "AUC: 79.86021666216584\n",
      "f1-score: 65.42553191489363\n",
      "\n",
      "\n",
      "For fold 5:\n",
      "Accuracy: 84.50932684509327\n",
      "Precision: 59.859154929577464\n",
      "Recall: 68.82591093117408\n",
      "AUC: 78.63202240270672\n",
      "f1-score: 64.030131826742\n",
      "\n",
      "\n"
     ]
    }
   ],
   "source": [
    "kf = KFold(n_splits=5)\n",
    "\n",
    "for fold, (train_index, test_index) in enumerate(kf.split(X_std), 1):\n",
    "    X_train = X_std[train_index]\n",
    "    y_train = y[train_index] \n",
    "    X_test = X_std[test_index]\n",
    "    y_test = y[test_index]  \n",
    "    sm = SMOTE(random_state=42)\n",
    "    X_train_oversampled, y_train_oversampled = sm.fit_sample(X_train,y_train)\n",
    "    model = RandomForestClassifier(criterion='entropy',max_depth=10,max_features='sqrt',n_estimators=75)\n",
    "    model.fit(X_train_oversampled, y_train_oversampled)  \n",
    "    y_pred = model.predict(X_test)\n",
    "    print(f'For fold {fold}:')\n",
    "    print(f'Accuracy: {model.score(X_test, y_test)*100}')\n",
    "    print(f'Precision: {precision_score(y_test,y_pred)*100}')\n",
    "    print(f'Recall: {recall_score(y_test,y_pred)*100}')\n",
    "    print(f'AUC: {roc_auc_score(y_test,y_pred)*100}')\n",
    "    print(f'f1-score: {f1_score(y_test, y_pred)*100}')\n",
    "    print('\\n')"
   ]
  },
  {
   "cell_type": "code",
   "execution_count": 15,
   "metadata": {},
   "outputs": [
    {
     "name": "stdout",
     "output_type": "stream",
     "text": [
      "Mean : 0.86242\n",
      "Variance : 0.006419656999999999\n"
     ]
    }
   ],
   "source": [
    "auc=[.7873,.8043,.8230,.9388,.9587]\n",
    "rf_auc_mean=np.mean(auc)\n",
    "rf_auc_var=np.var(auc,ddof=1)\n",
    "print('Mean :',rf_auc_mean)\n",
    "print('Variance :',rf_auc_var)"
   ]
  },
  {
   "cell_type": "markdown",
   "metadata": {},
   "source": [
    "## K-NN"
   ]
  },
  {
   "cell_type": "code",
   "execution_count": 16,
   "metadata": {},
   "outputs": [
    {
     "name": "stdout",
     "output_type": "stream",
     "text": [
      "For fold 1:\n",
      "Accuracy: 88.88888888888889\n",
      "Precision: 45.20202020202021\n",
      "Recall: 75.84745762711864\n",
      "AUC: 83.05825796154139\n",
      "f1-score: 56.64556962025317\n",
      "\n",
      "\n",
      "For fold 2:\n",
      "Accuracy: 86.05028386050284\n",
      "Precision: 42.49084249084249\n",
      "Recall: 88.54961832061069\n",
      "AUC: 87.15139718208394\n",
      "f1-score: 57.425742574257434\n",
      "\n",
      "\n",
      "For fold 3:\n",
      "Accuracy: 77.77777777777779\n",
      "Precision: 40.02828854314003\n",
      "Recall: 69.53316953316954\n",
      "AUC: 74.47032444604082\n",
      "f1-score: 50.80789946140035\n",
      "\n",
      "\n",
      "For fold 4:\n",
      "Accuracy: 75.50689375506894\n",
      "Precision: 43.994943109987354\n",
      "Recall: 68.36935166994105\n",
      "AUC: 72.86633143026945\n",
      "f1-score: 53.53846153846153\n",
      "\n",
      "\n",
      "For fold 5:\n",
      "Accuracy: 75.18248175182481\n",
      "Precision: 42.75184275184275\n",
      "Recall: 70.44534412955466\n",
      "AUC: 73.40725624327631\n",
      "f1-score: 53.21100917431192\n",
      "\n",
      "\n"
     ]
    }
   ],
   "source": [
    "kf = KFold(n_splits=5)\n",
    "\n",
    "for fold, (train_index, test_index) in enumerate(kf.split(X_std), 1):\n",
    "    X_train = X_std[train_index]\n",
    "    y_train = y[train_index] \n",
    "    X_test = X_std[test_index]\n",
    "    y_test = y[test_index]  \n",
    "    sm = SMOTE(random_state=42)\n",
    "    X_train_oversampled, y_train_oversampled = sm.fit_sample(X_train,y_train)\n",
    "    model = KNeighborsClassifier(n_neighbors=16,weights='uniform')\n",
    "    model.fit(X_train_oversampled, y_train_oversampled)  \n",
    "    y_pred = model.predict(X_test)\n",
    "    print(f'For fold {fold}:')\n",
    "    print(f'Accuracy: {model.score(X_test, y_test)*100}')\n",
    "    print(f'Precision: {precision_score(y_test,y_pred)*100}')\n",
    "    print(f'Recall: {recall_score(y_test,y_pred)*100}')\n",
    "    print(f'AUC: {roc_auc_score(y_test,y_pred)*100}')\n",
    "    print(f'f1-score: {f1_score(y_test, y_pred)*100}')\n",
    "    print('\\n')"
   ]
  },
  {
   "cell_type": "code",
   "execution_count": 17,
   "metadata": {},
   "outputs": [
    {
     "name": "stdout",
     "output_type": "stream",
     "text": [
      "Mean : 0.7819200000000001\n",
      "Variance : 0.004224692000000002\n"
     ]
    }
   ],
   "source": [
    "auc=[.7341,.7287,.7447,.8715,.8306]\n",
    "knn_auc_mean=np.mean(auc)\n",
    "knn_auc_var=np.var(auc,ddof=1)\n",
    "print('Mean :',knn_auc_mean)\n",
    "print('Variance :',knn_auc_var)"
   ]
  },
  {
   "cell_type": "markdown",
   "metadata": {},
   "source": [
    "## Naive Bayes"
   ]
  },
  {
   "cell_type": "code",
   "execution_count": 18,
   "metadata": {},
   "outputs": [
    {
     "name": "stdout",
     "output_type": "stream",
     "text": [
      "For fold 1:\n",
      "Accuracy: 78.75101378751013\n",
      "Precision: 29.130434782608695\n",
      "Recall: 85.16949152542372\n",
      "AUC: 81.62062020217374\n",
      "f1-score: 43.41252699784017\n",
      "\n",
      "\n",
      "For fold 2:\n",
      "Accuracy: 79.56204379562044\n",
      "Precision: 31.49847094801223\n",
      "Recall: 78.62595419847328\n",
      "AUC: 79.14963771629655\n",
      "f1-score: 44.97816593886463\n",
      "\n",
      "\n",
      "For fold 3:\n",
      "Accuracy: 71.12733171127331\n",
      "Precision: 32.57142857142858\n",
      "Recall: 70.02457002457002\n",
      "AUC: 70.68494164171678\n",
      "f1-score: 44.46177847113885\n",
      "\n",
      "\n",
      "For fold 4:\n",
      "Accuracy: 71.49229521492295\n",
      "Precision: 40.081799591002046\n",
      "Recall: 77.01375245579568\n",
      "AUC: 73.53498046908334\n",
      "f1-score: 52.7236045729657\n",
      "\n",
      "\n",
      "For fold 5:\n",
      "Accuracy: 69.78913219789132\n",
      "Precision: 38.23805060918463\n",
      "Recall: 82.5910931174089\n",
      "AUC: 74.5866216094144\n",
      "f1-score: 52.27418321588726\n",
      "\n",
      "\n"
     ]
    }
   ],
   "source": [
    "kf = KFold(n_splits=5)\n",
    "\n",
    "for fold, (train_index, test_index) in enumerate(kf.split(X_std), 1):\n",
    "    X_train = X_std[train_index]\n",
    "    y_train = y[train_index] \n",
    "    X_test = X_std[test_index]\n",
    "    y_test = y[test_index]  \n",
    "    sm = SMOTE(random_state=42)\n",
    "    X_train_oversampled, y_train_oversampled = sm.fit_sample(X_train,y_train)\n",
    "    model = GaussianNB()\n",
    "    model.fit(X_train_oversampled, y_train_oversampled)  \n",
    "    y_pred = model.predict(X_test)\n",
    "    print(f'For fold {fold}:')\n",
    "    print(f'Accuracy: {model.score(X_test, y_test)*100}')\n",
    "    print(f'Precision: {precision_score(y_test,y_pred)*100}')\n",
    "    print(f'Recall: {recall_score(y_test,y_pred)*100}')\n",
    "    print(f'AUC: {roc_auc_score(y_test,y_pred)*100}')\n",
    "    print(f'f1-score: {f1_score(y_test, y_pred)*100}')\n",
    "    print('\\n')"
   ]
  },
  {
   "cell_type": "code",
   "execution_count": 19,
   "metadata": {},
   "outputs": [
    {
     "name": "stdout",
     "output_type": "stream",
     "text": [
      "Mean : 0.75914\n",
      "Variance : 0.0019465330000000018\n"
     ]
    }
   ],
   "source": [
    "auc=[.7459,.7353,.7068,.7915,.8162]\n",
    "nb_auc_mean=np.mean(auc)\n",
    "nb_auc_var=np.var(auc,ddof=1)\n",
    "print('Mean :',nb_auc_mean)\n",
    "print('Variance :',nb_auc_var)"
   ]
  },
  {
   "cell_type": "code",
   "execution_count": null,
   "metadata": {},
   "outputs": [],
   "source": []
  }
 ],
 "metadata": {
  "kernelspec": {
   "display_name": "Python 3",
   "language": "python",
   "name": "python3"
  },
  "language_info": {
   "codemirror_mode": {
    "name": "ipython",
    "version": 3
   },
   "file_extension": ".py",
   "mimetype": "text/x-python",
   "name": "python",
   "nbconvert_exporter": "python",
   "pygments_lexer": "ipython3",
   "version": "3.7.3"
  }
 },
 "nbformat": 4,
 "nbformat_minor": 2
}
