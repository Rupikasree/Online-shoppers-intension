{
 "cells": [
  {
   "cell_type": "markdown",
   "metadata": {},
   "source": [
    "##### We build our model after feature selection,scaling and over-sampling"
   ]
  },
  {
   "cell_type": "code",
   "execution_count": 4,
   "metadata": {},
   "outputs": [],
   "source": [
    "import os\n",
    "import warnings\n",
    "warnings.filterwarnings('ignore')\n",
    "\n",
    "# Basics\n",
    "import numpy as np\n",
    "import pandas as pd\n",
    "\n",
    "# Plots\n",
    "import matplotlib.pyplot as plt\n",
    "import seaborn as sns\n",
    "\n",
    "# Preprocessing\n",
    "from sklearn.preprocessing import LabelEncoder\n",
    "\n",
    "# Train Test Split\n",
    "from sklearn.model_selection import train_test_split,GridSearchCV,cross_val_score\n",
    "\n",
    "# Imbalanced Dataset\n",
    "from imblearn.over_sampling import SMOTE\n",
    "\n",
    "# Standard Scaler\n",
    "from sklearn.preprocessing import StandardScaler\n",
    "\n",
    "# Machine Learning Models\n",
    "from sklearn.linear_model import LogisticRegression\n",
    "from sklearn.tree import DecisionTreeClassifier\n",
    "from sklearn.ensemble import RandomForestClassifier\n",
    "from sklearn.neighbors import KNeighborsClassifier\n",
    "from sklearn.naive_bayes import GaussianNB\n",
    "\n",
    "# Metrics\n",
    "from sklearn.metrics import accuracy_score,precision_score,recall_score,f1_score,confusion_matrix,roc_auc_score,roc_curve,auc\n",
    "\n",
    "\n",
    "# Ensemble Techniques\n",
    "from sklearn.ensemble import BaggingClassifier\n",
    "from sklearn.ensemble import AdaBoostClassifier\n",
    "\n",
    "# Stacking\n",
    "from mlxtend.classifier import StackingClassifier\n",
    "from vecstack import stacking\n",
    "\n",
    "# PCA\n",
    "from sklearn.decomposition import PCA"
   ]
  },
  {
   "cell_type": "code",
   "execution_count": 5,
   "metadata": {},
   "outputs": [
    {
     "data": {
      "text/html": [
       "<div>\n",
       "<style scoped>\n",
       "    .dataframe tbody tr th:only-of-type {\n",
       "        vertical-align: middle;\n",
       "    }\n",
       "\n",
       "    .dataframe tbody tr th {\n",
       "        vertical-align: top;\n",
       "    }\n",
       "\n",
       "    .dataframe thead th {\n",
       "        text-align: right;\n",
       "    }\n",
       "</style>\n",
       "<table border=\"1\" class=\"dataframe\">\n",
       "  <thead>\n",
       "    <tr style=\"text-align: right;\">\n",
       "      <th></th>\n",
       "      <th>Administrative</th>\n",
       "      <th>Administrative_Duration</th>\n",
       "      <th>Informational</th>\n",
       "      <th>Informational_Duration</th>\n",
       "      <th>ProductRelated</th>\n",
       "      <th>ProductRelated_Duration</th>\n",
       "      <th>BounceRates</th>\n",
       "      <th>ExitRates</th>\n",
       "      <th>PageValues</th>\n",
       "      <th>SpecialDay</th>\n",
       "      <th>Month</th>\n",
       "      <th>OperatingSystems</th>\n",
       "      <th>Browser</th>\n",
       "      <th>Region</th>\n",
       "      <th>TrafficType</th>\n",
       "      <th>VisitorType</th>\n",
       "      <th>Weekend</th>\n",
       "      <th>Revenue</th>\n",
       "    </tr>\n",
       "  </thead>\n",
       "  <tbody>\n",
       "    <tr>\n",
       "      <th>0</th>\n",
       "      <td>0</td>\n",
       "      <td>0.0</td>\n",
       "      <td>0</td>\n",
       "      <td>0.0</td>\n",
       "      <td>1</td>\n",
       "      <td>0.000000</td>\n",
       "      <td>0.20</td>\n",
       "      <td>0.20</td>\n",
       "      <td>0.0</td>\n",
       "      <td>0.0</td>\n",
       "      <td>Feb</td>\n",
       "      <td>1</td>\n",
       "      <td>1</td>\n",
       "      <td>1</td>\n",
       "      <td>1</td>\n",
       "      <td>Returning_Visitor</td>\n",
       "      <td>False</td>\n",
       "      <td>False</td>\n",
       "    </tr>\n",
       "    <tr>\n",
       "      <th>1</th>\n",
       "      <td>0</td>\n",
       "      <td>0.0</td>\n",
       "      <td>0</td>\n",
       "      <td>0.0</td>\n",
       "      <td>2</td>\n",
       "      <td>64.000000</td>\n",
       "      <td>0.00</td>\n",
       "      <td>0.10</td>\n",
       "      <td>0.0</td>\n",
       "      <td>0.0</td>\n",
       "      <td>Feb</td>\n",
       "      <td>2</td>\n",
       "      <td>2</td>\n",
       "      <td>1</td>\n",
       "      <td>2</td>\n",
       "      <td>Returning_Visitor</td>\n",
       "      <td>False</td>\n",
       "      <td>False</td>\n",
       "    </tr>\n",
       "    <tr>\n",
       "      <th>2</th>\n",
       "      <td>0</td>\n",
       "      <td>0.0</td>\n",
       "      <td>0</td>\n",
       "      <td>0.0</td>\n",
       "      <td>1</td>\n",
       "      <td>0.000000</td>\n",
       "      <td>0.20</td>\n",
       "      <td>0.20</td>\n",
       "      <td>0.0</td>\n",
       "      <td>0.0</td>\n",
       "      <td>Feb</td>\n",
       "      <td>4</td>\n",
       "      <td>1</td>\n",
       "      <td>9</td>\n",
       "      <td>3</td>\n",
       "      <td>Returning_Visitor</td>\n",
       "      <td>False</td>\n",
       "      <td>False</td>\n",
       "    </tr>\n",
       "    <tr>\n",
       "      <th>3</th>\n",
       "      <td>0</td>\n",
       "      <td>0.0</td>\n",
       "      <td>0</td>\n",
       "      <td>0.0</td>\n",
       "      <td>2</td>\n",
       "      <td>2.666667</td>\n",
       "      <td>0.05</td>\n",
       "      <td>0.14</td>\n",
       "      <td>0.0</td>\n",
       "      <td>0.0</td>\n",
       "      <td>Feb</td>\n",
       "      <td>3</td>\n",
       "      <td>2</td>\n",
       "      <td>2</td>\n",
       "      <td>4</td>\n",
       "      <td>Returning_Visitor</td>\n",
       "      <td>False</td>\n",
       "      <td>False</td>\n",
       "    </tr>\n",
       "    <tr>\n",
       "      <th>4</th>\n",
       "      <td>0</td>\n",
       "      <td>0.0</td>\n",
       "      <td>0</td>\n",
       "      <td>0.0</td>\n",
       "      <td>10</td>\n",
       "      <td>627.500000</td>\n",
       "      <td>0.02</td>\n",
       "      <td>0.05</td>\n",
       "      <td>0.0</td>\n",
       "      <td>0.0</td>\n",
       "      <td>Feb</td>\n",
       "      <td>3</td>\n",
       "      <td>3</td>\n",
       "      <td>1</td>\n",
       "      <td>4</td>\n",
       "      <td>Returning_Visitor</td>\n",
       "      <td>True</td>\n",
       "      <td>False</td>\n",
       "    </tr>\n",
       "  </tbody>\n",
       "</table>\n",
       "</div>"
      ],
      "text/plain": [
       "   Administrative  Administrative_Duration  Informational  \\\n",
       "0               0                      0.0              0   \n",
       "1               0                      0.0              0   \n",
       "2               0                      0.0              0   \n",
       "3               0                      0.0              0   \n",
       "4               0                      0.0              0   \n",
       "\n",
       "   Informational_Duration  ProductRelated  ProductRelated_Duration  \\\n",
       "0                     0.0               1                 0.000000   \n",
       "1                     0.0               2                64.000000   \n",
       "2                     0.0               1                 0.000000   \n",
       "3                     0.0               2                 2.666667   \n",
       "4                     0.0              10               627.500000   \n",
       "\n",
       "   BounceRates  ExitRates  PageValues  SpecialDay Month  OperatingSystems  \\\n",
       "0         0.20       0.20         0.0         0.0   Feb                 1   \n",
       "1         0.00       0.10         0.0         0.0   Feb                 2   \n",
       "2         0.20       0.20         0.0         0.0   Feb                 4   \n",
       "3         0.05       0.14         0.0         0.0   Feb                 3   \n",
       "4         0.02       0.05         0.0         0.0   Feb                 3   \n",
       "\n",
       "   Browser  Region  TrafficType        VisitorType  Weekend  Revenue  \n",
       "0        1       1            1  Returning_Visitor    False    False  \n",
       "1        2       1            2  Returning_Visitor    False    False  \n",
       "2        1       9            3  Returning_Visitor    False    False  \n",
       "3        2       2            4  Returning_Visitor    False    False  \n",
       "4        3       1            4  Returning_Visitor     True    False  "
      ]
     },
     "execution_count": 5,
     "metadata": {},
     "output_type": "execute_result"
    }
   ],
   "source": [
    "data=pd.read_csv('online_shoppers_intention.csv')\n",
    "data.head()"
   ]
  },
  {
   "cell_type": "code",
   "execution_count": 6,
   "metadata": {},
   "outputs": [
    {
     "data": {
      "text/plain": [
       "0    10422\n",
       "1     1908\n",
       "Name: Revenue, dtype: int64"
      ]
     },
     "execution_count": 6,
     "metadata": {},
     "output_type": "execute_result"
    }
   ],
   "source": [
    "le = LabelEncoder()\n",
    "data['Revenue'] = le.fit_transform(data['Revenue'])\n",
    "data['Revenue'].value_counts()"
   ]
  },
  {
   "cell_type": "code",
   "execution_count": 7,
   "metadata": {},
   "outputs": [
    {
     "data": {
      "text/plain": [
       "6    3364\n",
       "7    2998\n",
       "5    1907\n",
       "1    1727\n",
       "8     549\n",
       "9     448\n",
       "0     433\n",
       "3     432\n",
       "4     288\n",
       "2     184\n",
       "Name: Month, dtype: int64"
      ]
     },
     "execution_count": 7,
     "metadata": {},
     "output_type": "execute_result"
    }
   ],
   "source": [
    "le = LabelEncoder()\n",
    "data['Month'] = le.fit_transform(data['Month'])\n",
    "data['Month'].value_counts()"
   ]
  },
  {
   "cell_type": "code",
   "execution_count": 8,
   "metadata": {},
   "outputs": [
    {
     "data": {
      "text/plain": [
       "2    10551\n",
       "0     1694\n",
       "1       85\n",
       "Name: VisitorType, dtype: int64"
      ]
     },
     "execution_count": 8,
     "metadata": {},
     "output_type": "execute_result"
    }
   ],
   "source": [
    "le = LabelEncoder()\n",
    "data['VisitorType'] = le.fit_transform(data['VisitorType'])\n",
    "data['VisitorType'].value_counts()"
   ]
  },
  {
   "cell_type": "code",
   "execution_count": 9,
   "metadata": {},
   "outputs": [
    {
     "data": {
      "text/plain": [
       "0    9462\n",
       "1    2868\n",
       "Name: Weekend, dtype: int64"
      ]
     },
     "execution_count": 9,
     "metadata": {},
     "output_type": "execute_result"
    }
   ],
   "source": [
    "le = LabelEncoder()\n",
    "data['Weekend'] = le.fit_transform(data['Weekend'])\n",
    "data['Weekend'].value_counts()"
   ]
  },
  {
   "cell_type": "code",
   "execution_count": 10,
   "metadata": {},
   "outputs": [],
   "source": [
    "y=data['Revenue']\n",
    "X=data.drop(['Revenue','Region','Administrative','Informational','ProductRelated','BounceRates'],axis=1)\n",
    "X_train, X_test, y_train, y_test = train_test_split(X, y, test_size=0.25, random_state=42)"
   ]
  },
  {
   "cell_type": "code",
   "execution_count": 11,
   "metadata": {},
   "outputs": [],
   "source": [
    "# train = pd.concat([X_train, y_train], axis=1)\n",
    "# train.head()"
   ]
  },
  {
   "cell_type": "code",
   "execution_count": 12,
   "metadata": {},
   "outputs": [],
   "source": [
    "# no_tra = train[train.Revenue==0]\n",
    "# tra = train[train.Revenue==1]\n",
    "# no_tra_downsampled = resample(no_tra,\n",
    "#                                 replace = False,\n",
    "#                                 n_samples = len(tra),\n",
    "#                                 random_state = 27)"
   ]
  },
  {
   "cell_type": "code",
   "execution_count": 13,
   "metadata": {},
   "outputs": [],
   "source": [
    "# downsampled = pd.concat([no_tra_downsampled,tra])\n",
    "# downsampled.Revenue.value_counts()"
   ]
  },
  {
   "cell_type": "code",
   "execution_count": 14,
   "metadata": {},
   "outputs": [],
   "source": [
    "# y_train = downsampled.Revenue\n",
    "# X_train = downsampled.drop('Revenue', axis=1)"
   ]
  },
  {
   "cell_type": "code",
   "execution_count": 15,
   "metadata": {},
   "outputs": [],
   "source": [
    "sc=StandardScaler()\n",
    "X_train=sc.fit_transform(X_train)\n",
    "X_test=sc.transform(X_test)"
   ]
  },
  {
   "cell_type": "code",
   "execution_count": 16,
   "metadata": {},
   "outputs": [],
   "source": [
    "sm=SMOTE(random_state=42)\n",
    "X_train, y_train = sm.fit_sample(X_train, y_train)"
   ]
  },
  {
   "cell_type": "markdown",
   "metadata": {},
   "source": [
    "# MODELS"
   ]
  },
  {
   "cell_type": "markdown",
   "metadata": {},
   "source": [
    "## Logistic Regression"
   ]
  },
  {
   "cell_type": "code",
   "execution_count": 17,
   "metadata": {},
   "outputs": [],
   "source": [
    "classifier=LogisticRegression(random_state=0)\n",
    "classifier.fit(X_train,y_train)\n",
    "y_pred=classifier.predict(X_test)"
   ]
  },
  {
   "cell_type": "code",
   "execution_count": 18,
   "metadata": {},
   "outputs": [
    {
     "name": "stdout",
     "output_type": "stream",
     "text": [
      "Train Score : 82.54982115482882\n",
      "Test Score : 86.21472591631529\n",
      "Precision : 86.21472591631529\n",
      "Recall : 86.21472591631529\n",
      "F1 Score : 62.75197195442595\n",
      "AUC Score : 80.93839330340742\n",
      "Confusion matrix:  [[2300  294]\n",
      " [ 131  358]]\n"
     ]
    }
   ],
   "source": [
    "print('Train Score :',classifier.score(X_train, y_train)*100)\n",
    "print('Test Score :',accuracy_score(y_test, y_pred)*100)\n",
    "print('Precision :',precision_score(y_test,y_pred,average='micro')*100)\n",
    "print('Recall :',recall_score(y_test,y_pred,average='micro')*100)\n",
    "print('F1 Score :',f1_score(y_test,y_pred)*100)\n",
    "print('AUC Score :',roc_auc_score(y_test,y_pred)*100)\n",
    "print('Confusion matrix: ',confusion_matrix(y_test,y_pred))"
   ]
  },
  {
   "cell_type": "code",
   "execution_count": 19,
   "metadata": {},
   "outputs": [
    {
     "data": {
      "text/plain": [
       "array([[2300,  294],\n",
       "       [ 131,  358]], dtype=int64)"
      ]
     },
     "execution_count": 19,
     "metadata": {},
     "output_type": "execute_result"
    }
   ],
   "source": [
    "results=confusion_matrix(y_test,y_pred)\n",
    "results"
   ]
  },
  {
   "cell_type": "code",
   "execution_count": 20,
   "metadata": {},
   "outputs": [
    {
     "data": {
      "text/plain": [
       "<matplotlib.axes._subplots.AxesSubplot at 0x2cd0fde9f28>"
      ]
     },
     "execution_count": 20,
     "metadata": {},
     "output_type": "execute_result"
    },
    {
     "data": {
      "image/png": "[encoded data removed]",
      "text/plain": [
       "<Figure size 720x360 with 2 Axes>"
      ]
     },
     "metadata": {
      "needs_background": "light"
     },
     "output_type": "display_data"
    }
   ],
   "source": [
    "plt.figure(figsize=(10,5))\n",
    "sns.heatmap(results,annot=True)"
   ]
  },
  {
   "cell_type": "code",
   "execution_count": 21,
   "metadata": {},
   "outputs": [
    {
     "data": {
      "image/png": "[encoded data removed]",
      "text/plain": [
       "<Figure size 432x288 with 1 Axes>"
      ]
     },
     "metadata": {
      "needs_background": "light"
     },
     "output_type": "display_data"
    }
   ],
   "source": [
    "fpr, tpr, thresholds = roc_curve(y_test,y_pred)\n",
    "roc_auc = auc(fpr, tpr)\n",
    "lw=2\n",
    "plt.figure()\n",
    "plt.plot(fpr, tpr, color='darkorange', lw=1, label='ROC curve (area = %0.2f)' % roc_auc)\n",
    "plt.plot([0, 1], [0, 1], color='navy', lw=lw, linestyle='--')\n",
    "plt.xlim([0.0, 1.0])\n",
    "plt.ylim([0.0, 1.05])\n",
    "plt.xlabel('False Positive Rate')\n",
    "plt.ylabel('True Positive Rate')\n",
    "plt.title('Receiver operating characteristic')\n",
    "plt.legend(loc=\"lower right\")\n",
    "plt.show()"
   ]
  },
  {
   "cell_type": "code",
   "execution_count": 22,
   "metadata": {},
   "outputs": [],
   "source": [
    "# feature_imp = pd.Series(classifier.feature_importance,index=feature_names).sort_values(ascending=False)\n",
    "# feature_imp"
   ]
  },
  {
   "cell_type": "code",
   "execution_count": 23,
   "metadata": {},
   "outputs": [],
   "source": [
    "# sns.barplot(feature_imp,feature_imp.index)\n",
    "# plt.xlabel('Feature Importance Score')\n",
    "# plt.ylabel('Features')\n",
    "# plt.title('Importance of Features')\n",
    "# plt.show()"
   ]
  },
  {
   "cell_type": "markdown",
   "metadata": {},
   "source": [
    "## Decision Tree"
   ]
  },
  {
   "cell_type": "code",
   "execution_count": 24,
   "metadata": {},
   "outputs": [],
   "source": [
    "classifier=DecisionTreeClassifier(random_state=0)\n",
    "classifier.fit(X_train,y_train)\n",
    "y_pred=classifier.predict(X_test)"
   ]
  },
  {
   "cell_type": "code",
   "execution_count": 25,
   "metadata": {},
   "outputs": [
    {
     "name": "stdout",
     "output_type": "stream",
     "text": [
      "Train Score : 100.0\n",
      "Test Score : 83.97664612390528\n",
      "Precision : 83.97664612390528\n",
      "Recall : 83.97664612390528\n",
      "F1 Score : 54.34380776340111\n",
      "AUC Score : 74.29804977035255\n",
      "Confusion matrix:  [[2295  299]\n",
      " [ 195  294]]\n"
     ]
    }
   ],
   "source": [
    "print('Train Score :',classifier.score(X_train, y_train)*100)\n",
    "print('Test Score :',accuracy_score(y_test, y_pred)*100)\n",
    "print('Precision :',precision_score(y_test,y_pred,average='micro')*100)\n",
    "print('Recall :',recall_score(y_test,y_pred,average='micro')*100)\n",
    "print('F1 Score :',f1_score(y_test,y_pred)*100)\n",
    "print('AUC Score :',roc_auc_score(y_test,y_pred)*100)\n",
    "print('Confusion matrix: ',confusion_matrix(y_test,y_pred))"
   ]
  },
  {
   "cell_type": "code",
   "execution_count": 26,
   "metadata": {},
   "outputs": [],
   "source": [
    "param_grid={\n",
    "    'criterion':['gini','entropy'],\n",
    "    'max_features':['auto','sqrt','log2'],\n",
    "    'splitter':['best','random'],\n",
    "    'max_depth':[5,10,15]\n",
    "}"
   ]
  },
  {
   "cell_type": "code",
   "execution_count": 27,
   "metadata": {},
   "outputs": [],
   "source": [
    "CV_dt=GridSearchCV(estimator=classifier,param_grid=param_grid,cv=5)\n",
    "CV_dt.fit(X_train,y_train)\n",
    "y_pred=CV_dt.predict(X_test)"
   ]
  },
  {
   "cell_type": "code",
   "execution_count": 28,
   "metadata": {},
   "outputs": [
    {
     "name": "stdout",
     "output_type": "stream",
     "text": [
      "0.8914827337387058\n",
      "{'criterion': 'gini', 'max_depth': 15, 'max_features': 'auto', 'splitter': 'best'}\n",
      "DecisionTreeClassifier(ccp_alpha=0.0, class_weight=None, criterion='gini',\n",
      "                       max_depth=15, max_features='auto', max_leaf_nodes=None,\n",
      "                       min_impurity_decrease=0.0, min_impurity_split=None,\n",
      "                       min_samples_leaf=1, min_samples_split=2,\n",
      "                       min_weight_fraction_leaf=0.0, presort='deprecated',\n",
      "                       random_state=0, splitter='best')\n"
     ]
    }
   ],
   "source": [
    "print(CV_dt.best_score_)\n",
    "print(CV_dt.best_params_)\n",
    "print(CV_dt.best_estimator_)"
   ]
  },
  {
   "cell_type": "code",
   "execution_count": 29,
   "metadata": {},
   "outputs": [
    {
     "name": "stdout",
     "output_type": "stream",
     "text": [
      "Train Score : 95.35002554931017\n",
      "Test Score : 84.59292896529355\n",
      "Precision : 84.59292896529355\n",
      "Recall : 84.59292896529355\n",
      "F1 Score : 59.366980325064155\n",
      "AUC Score : 79.06191415457727\n",
      "Confusion matrix:  [[2261  333]\n",
      " [ 142  347]]\n"
     ]
    }
   ],
   "source": [
    "print('Train Score :',CV_dt.score(X_train, y_train)*100)\n",
    "print('Test Score :',accuracy_score(y_test, y_pred)*100)\n",
    "print('Precision :',precision_score(y_test,y_pred,average='micro')*100)\n",
    "print('Recall :',recall_score(y_test,y_pred,average='micro')*100)\n",
    "print('F1 Score :',f1_score(y_test,y_pred)*100)\n",
    "print('AUC Score :',roc_auc_score(y_test,y_pred)*100)\n",
    "print('Confusion matrix: ',confusion_matrix(y_test,y_pred))"
   ]
  },
  {
   "cell_type": "markdown",
   "metadata": {},
   "source": [
    "## Random Forest"
   ]
  },
  {
   "cell_type": "code",
   "execution_count": 30,
   "metadata": {},
   "outputs": [],
   "source": [
    "classifier=RandomForestClassifier(n_estimators=50)\n",
    "classifier.fit(X_train,y_train)\n",
    "y_pred=classifier.predict(X_test)"
   ]
  },
  {
   "cell_type": "code",
   "execution_count": 31,
   "metadata": {},
   "outputs": [
    {
     "name": "stdout",
     "output_type": "stream",
     "text": [
      "Train Score : 99.98722534491569\n",
      "Test Score : 88.19331819656179\n",
      "Precision : 88.19331819656179\n",
      "Recall : 88.19331819656179\n",
      "F1 Score : 67.02898550724638\n",
      "AUC Score : 83.10987444677271\n",
      "Confusion matrix:  [[2349  245]\n",
      " [ 119  370]]\n"
     ]
    }
   ],
   "source": [
    "print('Train Score :',classifier.score(X_train, y_train)*100)\n",
    "print('Test Score :',accuracy_score(y_test, y_pred)*100)\n",
    "print('Precision :',precision_score(y_test,y_pred,average='micro')*100)\n",
    "print('Recall :',recall_score(y_test,y_pred,average='micro')*100)\n",
    "print('F1 Score :',f1_score(y_test,y_pred)*100)\n",
    "print('AUC Score :',roc_auc_score(y_test,y_pred)*100)\n",
    "print('Confusion matrix: ',confusion_matrix(y_test,y_pred))"
   ]
  },
  {
   "cell_type": "code",
   "execution_count": 32,
   "metadata": {},
   "outputs": [],
   "source": [
    "param_grid={\n",
    "    'criterion':['gini','entropy'],\n",
    "    'n_estimators':[100,75,50],\n",
    "    'max_features':['auto','sqrt','log2'],\n",
    "    'max_depth':[5,8,10]\n",
    "}"
   ]
  },
  {
   "cell_type": "code",
   "execution_count": 33,
   "metadata": {},
   "outputs": [],
   "source": [
    "CV_rfc=GridSearchCV(estimator=classifier,param_grid=param_grid,cv=5)\n",
    "CV_rfc.fit(X_train,y_train)\n",
    "y_pred=CV_dt.predict(X_test)"
   ]
  },
  {
   "cell_type": "code",
   "execution_count": 34,
   "metadata": {},
   "outputs": [
    {
     "name": "stdout",
     "output_type": "stream",
     "text": [
      "0.9070668913387445\n",
      "{'criterion': 'gini', 'max_depth': 10, 'max_features': 'log2', 'n_estimators': 75}\n",
      "RandomForestClassifier(bootstrap=True, ccp_alpha=0.0, class_weight=None,\n",
      "                       criterion='gini', max_depth=10, max_features='log2',\n",
      "                       max_leaf_nodes=None, max_samples=None,\n",
      "                       min_impurity_decrease=0.0, min_impurity_split=None,\n",
      "                       min_samples_leaf=1, min_samples_split=2,\n",
      "                       min_weight_fraction_leaf=0.0, n_estimators=75,\n",
      "                       n_jobs=None, oob_score=False, random_state=None,\n",
      "                       verbose=0, warm_start=False)\n"
     ]
    }
   ],
   "source": [
    "print(CV_rfc.best_score_)\n",
    "print(CV_rfc.best_params_)\n",
    "print(CV_rfc.best_estimator_)"
   ]
  },
  {
   "cell_type": "code",
   "execution_count": 35,
   "metadata": {},
   "outputs": [
    {
     "name": "stdout",
     "output_type": "stream",
     "text": [
      "Train Score : 92.61624936126725\n",
      "Test Score : 84.59292896529355\n",
      "Precision : 84.59292896529355\n",
      "Recall : 84.59292896529355\n",
      "F1 Score : 59.366980325064155\n",
      "AUC Score : 79.06191415457727\n",
      "Confusion matrix:  [[2261  333]\n",
      " [ 142  347]]\n"
     ]
    }
   ],
   "source": [
    "print('Train Score :',CV_rfc.score(X_train, y_train)*100)\n",
    "print('Test Score :',accuracy_score(y_test, y_pred)*100)\n",
    "print('Precision :',precision_score(y_test,y_pred,average='micro')*100)\n",
    "print('Recall :',recall_score(y_test,y_pred,average='micro')*100)\n",
    "print('F1 Score :',f1_score(y_test,y_pred)*100)\n",
    "print('AUC Score :',roc_auc_score(y_test,y_pred)*100)\n",
    "print('Confusion matrix: ',confusion_matrix(y_test,y_pred))"
   ]
  },
  {
   "cell_type": "markdown",
   "metadata": {},
   "source": [
    "## K-NN"
   ]
  },
  {
   "cell_type": "code",
   "execution_count": 36,
   "metadata": {},
   "outputs": [],
   "source": [
    "classifier=KNeighborsClassifier(n_neighbors=5)\n",
    "classifier.fit(X_train,y_train)\n",
    "y_pred=classifier.predict(X_test)"
   ]
  },
  {
   "cell_type": "code",
   "execution_count": 37,
   "metadata": {},
   "outputs": [
    {
     "name": "stdout",
     "output_type": "stream",
     "text": [
      "Train Score : 92.9292284108329\n",
      "Test Score : 81.05741161206616\n",
      "Precision : 81.05741161206616\n",
      "Recall : 81.05741161206616\n",
      "F1 Score : 53.87045813586098\n",
      "AUC Score : 76.4630664125014\n",
      "Confusion matrix:  [[2158  436]\n",
      " [ 148  341]]\n"
     ]
    }
   ],
   "source": [
    "print('Train Score :',classifier.score(X_train, y_train)*100)\n",
    "print('Test Score :',accuracy_score(y_test, y_pred)*100)\n",
    "print('Precision :',precision_score(y_test,y_pred,average='micro')*100)\n",
    "print('Recall :',recall_score(y_test,y_pred,average='micro')*100)\n",
    "print('F1 Score :',f1_score(y_test,y_pred)*100)\n",
    "print('AUC Score :',roc_auc_score(y_test,y_pred)*100)\n",
    "print('Confusion matrix: ',confusion_matrix(y_test,y_pred))"
   ]
  },
  {
   "cell_type": "code",
   "execution_count": 38,
   "metadata": {},
   "outputs": [],
   "source": [
    "k_range=range(1,31)\n",
    "k_scores=[]\n",
    "\n",
    "for k in k_range:\n",
    "    knn=KNeighborsClassifier(n_neighbors=k)\n",
    "    scores=cross_val_score(knn,X,y,cv=10,scoring='accuracy')\n",
    "    k_scores.append(scores.mean())"
   ]
  },
  {
   "cell_type": "code",
   "execution_count": 39,
   "metadata": {},
   "outputs": [
    {
     "data": {
      "text/plain": [
       "Text(0, 0.5, 'Cross-Validated-Accuracy')"
      ]
     },
     "execution_count": 39,
     "metadata": {},
     "output_type": "execute_result"
    },
    {
     "data": {
      "image/png": "[encoded data removed]",
      "text/plain": [
       "<Figure size 432x288 with 1 Axes>"
      ]
     },
     "metadata": {
      "needs_background": "light"
     },
     "output_type": "display_data"
    }
   ],
   "source": [
    "plt.plot(k_range,k_scores)\n",
    "plt.xlabel('Value of K in KNN')\n",
    "plt.ylabel('Cross-Validated-Accuracy')"
   ]
  },
  {
   "cell_type": "code",
   "execution_count": 40,
   "metadata": {},
   "outputs": [
    {
     "data": {
      "text/plain": [
       "15"
      ]
     },
     "execution_count": 40,
     "metadata": {},
     "output_type": "execute_result"
    }
   ],
   "source": [
    "k_scores.index(max(k_scores))"
   ]
  },
  {
   "cell_type": "code",
   "execution_count": 41,
   "metadata": {},
   "outputs": [],
   "source": [
    "classifier=KNeighborsClassifier(n_neighbors=15)\n",
    "classifier.fit(X_train,y_train)\n",
    "y_pred=classifier.predict(X_test)"
   ]
  },
  {
   "cell_type": "code",
   "execution_count": 42,
   "metadata": {},
   "outputs": [
    {
     "name": "stdout",
     "output_type": "stream",
     "text": [
      "Train Score : 88.48364844149208\n",
      "Test Score : 79.37074278300356\n",
      "Precision : 79.37074278300356\n",
      "Recall : 79.37074278300356\n",
      "F1 Score : 53.166421207658324\n",
      "AUC Score : 77.12023814591798\n",
      "Confusion matrix:  [[2086  508]\n",
      " [ 128  361]]\n"
     ]
    }
   ],
   "source": [
    "print('Train Score :',classifier.score(X_train, y_train)*100)\n",
    "print('Test Score :',accuracy_score(y_test, y_pred)*100)\n",
    "print('Precision :',precision_score(y_test,y_pred,average='micro')*100)\n",
    "print('Recall :',recall_score(y_test,y_pred,average='micro')*100)\n",
    "print('F1 Score :',f1_score(y_test,y_pred)*100)\n",
    "print('AUC Score :',roc_auc_score(y_test,y_pred)*100)\n",
    "print('Confusion matrix: ',confusion_matrix(y_test,y_pred))"
   ]
  },
  {
   "cell_type": "code",
   "execution_count": 43,
   "metadata": {},
   "outputs": [],
   "source": [
    "k_range=list(range(1,31))\n",
    "weight_options=['uniform','distance']"
   ]
  },
  {
   "cell_type": "code",
   "execution_count": 44,
   "metadata": {},
   "outputs": [],
   "source": [
    "param_grid=dict(n_neighbors=k_range,weights=weight_options)\n",
    "knn=KNeighborsClassifier()"
   ]
  },
  {
   "cell_type": "code",
   "execution_count": 45,
   "metadata": {},
   "outputs": [
    {
     "data": {
      "text/plain": [
       "GridSearchCV(cv=10, error_score=nan,\n",
       "             estimator=KNeighborsClassifier(algorithm='auto', leaf_size=30,\n",
       "                                            metric='minkowski',\n",
       "                                            metric_params=None, n_jobs=None,\n",
       "                                            n_neighbors=5, p=2,\n",
       "                                            weights='uniform'),\n",
       "             iid='deprecated', n_jobs=None,\n",
       "             param_grid={'n_neighbors': [1, 2, 3, 4, 5, 6, 7, 8, 9, 10, 11, 12,\n",
       "                                         13, 14, 15, 16, 17, 18, 19, 20, 21, 22,\n",
       "                                         23, 24, 25, 26, 27, 28, 29, 30],\n",
       "                         'weights': ['uniform', 'distance']},\n",
       "             pre_dispatch='2*n_jobs', refit=True, return_train_score=False,\n",
       "             scoring='accuracy', verbose=0)"
      ]
     },
     "execution_count": 45,
     "metadata": {},
     "output_type": "execute_result"
    }
   ],
   "source": [
    "grid=GridSearchCV(knn,param_grid,cv=10,scoring='accuracy')\n",
    "grid.fit(X,y)"
   ]
  },
  {
   "cell_type": "code",
   "execution_count": 46,
   "metadata": {},
   "outputs": [
    {
     "name": "stdout",
     "output_type": "stream",
     "text": [
      "0.8679643146796432\n",
      "{'n_neighbors': 16, 'weights': 'uniform'}\n",
      "KNeighborsClassifier(algorithm='auto', leaf_size=30, metric='minkowski',\n",
      "                     metric_params=None, n_jobs=None, n_neighbors=16, p=2,\n",
      "                     weights='uniform')\n"
     ]
    }
   ],
   "source": [
    "print(grid.best_score_)\n",
    "print(grid.best_params_)\n",
    "print(grid.best_estimator_)"
   ]
  },
  {
   "cell_type": "code",
   "execution_count": 47,
   "metadata": {},
   "outputs": [],
   "source": [
    "classifier=KNeighborsClassifier(n_neighbors=16,weights='uniform')\n",
    "classifier.fit(X_train,y_train)\n",
    "y_pred=classifier.predict(X_test)"
   ]
  },
  {
   "cell_type": "code",
   "execution_count": 48,
   "metadata": {},
   "outputs": [
    {
     "name": "stdout",
     "output_type": "stream",
     "text": [
      "Train Score : 88.40061318344404\n",
      "Test Score : 80.60330846578009\n",
      "Precision : 80.60330846578009\n",
      "Recall : 80.60330846578009\n",
      "F1 Score : 53.929121725731896\n",
      "AUC Score : 76.93998104797448\n",
      "Confusion matrix:  [[2135  459]\n",
      " [ 139  350]]\n"
     ]
    }
   ],
   "source": [
    "print('Train Score :',classifier.score(X_train, y_train)*100)\n",
    "print('Test Score :',accuracy_score(y_test, y_pred)*100)\n",
    "print('Precision :',precision_score(y_test,y_pred,average='micro')*100)\n",
    "print('Recall :',recall_score(y_test,y_pred,average='micro')*100)\n",
    "print('F1 Score :',f1_score(y_test,y_pred)*100)\n",
    "print('AUC Score :',roc_auc_score(y_test,y_pred)*100)\n",
    "print('Confusion matrix: ',confusion_matrix(y_test,y_pred))"
   ]
  },
  {
   "cell_type": "markdown",
   "metadata": {},
   "source": [
    "## Naive Bayes"
   ]
  },
  {
   "cell_type": "code",
   "execution_count": 49,
   "metadata": {},
   "outputs": [],
   "source": [
    "classifier=GaussianNB()\n",
    "classifier.fit(X_train,y_train)\n",
    "y_pred=classifier.predict(X_test)"
   ]
  },
  {
   "cell_type": "code",
   "execution_count": 50,
   "metadata": {},
   "outputs": [
    {
     "name": "stdout",
     "output_type": "stream",
     "text": [
      "Train Score : 76.43714869698518\n",
      "Test Score : 69.67239701589361\n",
      "Precision : 69.67239701589361\n",
      "Recall : 69.67239701589361\n",
      "F1 Score : 45.67112144102266\n",
      "AUC Score : 74.01211384459654\n",
      "Confusion matrix:  [[1755  839]\n",
      " [  96  393]]\n"
     ]
    }
   ],
   "source": [
    "print('Train Score :',classifier.score(X_train, y_train)*100)\n",
    "print('Test Score :',accuracy_score(y_test, y_pred)*100)\n",
    "print('Precision :',precision_score(y_test,y_pred,average='micro')*100)\n",
    "print('Recall :',recall_score(y_test,y_pred,average='micro')*100)\n",
    "print('F1 Score :',f1_score(y_test,y_pred)*100)\n",
    "print('AUC Score :',roc_auc_score(y_test,y_pred)*100)\n",
    "print('Confusion matrix: ',confusion_matrix(y_test,y_pred))"
   ]
  },
  {
   "cell_type": "markdown",
   "metadata": {},
   "source": [
    "# ENSEMBLE TECHNIQUES"
   ]
  },
  {
   "cell_type": "markdown",
   "metadata": {},
   "source": [
    "## Bagging- Logistic"
   ]
  },
  {
   "cell_type": "code",
   "execution_count": 51,
   "metadata": {},
   "outputs": [
    {
     "name": "stdout",
     "output_type": "stream",
     "text": [
      "BaggingClassifier(base_estimator=LogisticRegression(C=1.0, class_weight=None,\n",
      "                                                    dual=False,\n",
      "                                                    fit_intercept=True,\n",
      "                                                    intercept_scaling=1,\n",
      "                                                    l1_ratio=None, max_iter=100,\n",
      "                                                    multi_class='auto',\n",
      "                                                    n_jobs=None, penalty='l2',\n",
      "                                                    random_state=0,\n",
      "                                                    solver='lbfgs', tol=0.0001,\n",
      "                                                    verbose=0,\n",
      "                                                    warm_start=False),\n",
      "                  bootstrap=True, bootstrap_features=False, max_features=1.0,\n",
      "                  max_samples=1.0, n_estimators=10, n_jobs=None,\n",
      "                  oob_score=False, random_state=0, verbose=0, warm_start=False)\n"
     ]
    }
   ],
   "source": [
    "model = BaggingClassifier(base_estimator=LogisticRegression(random_state=0),random_state=0)\n",
    "model.fit(X_train, y_train)\n",
    "print(model)"
   ]
  },
  {
   "cell_type": "code",
   "execution_count": 52,
   "metadata": {},
   "outputs": [],
   "source": [
    "y_pred = model.predict(X_test)"
   ]
  },
  {
   "cell_type": "code",
   "execution_count": 53,
   "metadata": {},
   "outputs": [
    {
     "name": "stdout",
     "output_type": "stream",
     "text": [
      "Train Score : 82.60091977516608\n",
      "Test Score : 86.5066493674992\n",
      "Precision : 86.5066493674992\n",
      "Recall : 86.5066493674992\n",
      "F1 Score : 63.38028169014084\n",
      "AUC Score : 81.27781903496033\n",
      "Confusion matrix:  [[2307  287]\n",
      " [ 129  360]]\n"
     ]
    }
   ],
   "source": [
    "print('Train Score :',model.score(X_train, y_train)*100)\n",
    "print('Test Score :',accuracy_score(y_test, y_pred)*100)\n",
    "print('Precision :',precision_score(y_test,y_pred,average='micro')*100)\n",
    "print('Recall :',recall_score(y_test,y_pred,average='micro')*100)\n",
    "print('F1 Score :',f1_score(y_test,y_pred)*100)\n",
    "print('AUC Score :',roc_auc_score(y_test,y_pred)*100)\n",
    "print('Confusion matrix: ',confusion_matrix(y_test,y_pred))"
   ]
  },
  {
   "cell_type": "markdown",
   "metadata": {},
   "source": [
    "## Bagging- Decision Tree"
   ]
  },
  {
   "cell_type": "code",
   "execution_count": 54,
   "metadata": {},
   "outputs": [
    {
     "name": "stdout",
     "output_type": "stream",
     "text": [
      "BaggingClassifier(base_estimator=DecisionTreeClassifier(ccp_alpha=0.0,\n",
      "                                                        class_weight=None,\n",
      "                                                        criterion='gini',\n",
      "                                                        max_depth=5,\n",
      "                                                        max_features='auto',\n",
      "                                                        max_leaf_nodes=None,\n",
      "                                                        min_impurity_decrease=0.0,\n",
      "                                                        min_impurity_split=None,\n",
      "                                                        min_samples_leaf=1,\n",
      "                                                        min_samples_split=2,\n",
      "                                                        min_weight_fraction_leaf=0.0,\n",
      "                                                        presort='deprecated',\n",
      "                                                        random_state=0,\n",
      "                                                        splitter='best'),\n",
      "                  bootstrap=True, bootstrap_features=False, max_features=1.0,\n",
      "                  max_samples=1.0, n_estimators=10, n_jobs=None,\n",
      "                  oob_score=False, random_state=0, verbose=0, warm_start=False)\n"
     ]
    }
   ],
   "source": [
    "model = BaggingClassifier(base_estimator=DecisionTreeClassifier(random_state=0,criterion='gini',max_depth=5,max_features='auto',splitter='best'),random_state=0)\n",
    "model.fit(X_train, y_train)\n",
    "print(model)"
   ]
  },
  {
   "cell_type": "code",
   "execution_count": 55,
   "metadata": {},
   "outputs": [],
   "source": [
    "y_pred = model.predict(X_test)"
   ]
  },
  {
   "cell_type": "code",
   "execution_count": 56,
   "metadata": {},
   "outputs": [
    {
     "name": "stdout",
     "output_type": "stream",
     "text": [
      "Train Score : 87.69800715380684\n",
      "Test Score : 87.34998378203049\n",
      "Precision : 87.34998378203049\n",
      "Recall : 87.34998378203049\n",
      "F1 Score : 67.06081081081082\n",
      "AUC Score : 84.84902236244409\n",
      "Confusion matrix:  [[2296  298]\n",
      " [  92  397]]\n"
     ]
    }
   ],
   "source": [
    "print('Train Score :',model.score(X_train, y_train)*100)\n",
    "print('Test Score :',accuracy_score(y_test, y_pred)*100)\n",
    "print('Precision :',precision_score(y_test,y_pred,average='micro')*100)\n",
    "print('Recall :',recall_score(y_test,y_pred,average='micro')*100)\n",
    "print('F1 Score :',f1_score(y_test,y_pred)*100)\n",
    "print('AUC Score :',roc_auc_score(y_test,y_pred)*100)\n",
    "print('Confusion matrix: ',confusion_matrix(y_test,y_pred))"
   ]
  },
  {
   "cell_type": "markdown",
   "metadata": {},
   "source": [
    "## Bagging-KNN"
   ]
  },
  {
   "cell_type": "code",
   "execution_count": 57,
   "metadata": {},
   "outputs": [
    {
     "name": "stdout",
     "output_type": "stream",
     "text": [
      "BaggingClassifier(base_estimator=KNeighborsClassifier(algorithm='auto',\n",
      "                                                      leaf_size=30,\n",
      "                                                      metric='minkowski',\n",
      "                                                      metric_params=None,\n",
      "                                                      n_jobs=None,\n",
      "                                                      n_neighbors=16, p=2,\n",
      "                                                      weights='uniform'),\n",
      "                  bootstrap=True, bootstrap_features=False, max_features=1.0,\n",
      "                  max_samples=1.0, n_estimators=10, n_jobs=None,\n",
      "                  oob_score=False, random_state=0, verbose=0, warm_start=False)\n"
     ]
    }
   ],
   "source": [
    "model = BaggingClassifier(base_estimator=KNeighborsClassifier(n_neighbors=16,weights='uniform'),random_state=0)\n",
    "model.fit(X_train, y_train)\n",
    "y_pred = model.predict(X_test)\n",
    "print(model)"
   ]
  },
  {
   "cell_type": "code",
   "execution_count": 58,
   "metadata": {},
   "outputs": [
    {
     "name": "stdout",
     "output_type": "stream",
     "text": [
      "Train Score : 88.18983137455288\n",
      "Test Score : 80.0518975024327\n",
      "Precision : 80.0518975024327\n",
      "Recall : 80.0518975024327\n",
      "F1 Score : 54.00149588631265\n",
      "AUC Score : 77.52501840806138\n",
      "Confusion matrix:  [[2107  487]\n",
      " [ 128  361]]\n"
     ]
    }
   ],
   "source": [
    "print('Train Score :',model.score(X_train, y_train)*100)\n",
    "print('Test Score :',accuracy_score(y_test, y_pred)*100)\n",
    "print('Precision :',precision_score(y_test,y_pred,average='micro')*100)\n",
    "print('Recall :',recall_score(y_test,y_pred,average='micro')*100)\n",
    "print('F1 Score :',f1_score(y_test,y_pred)*100)\n",
    "print('AUC Score :',roc_auc_score(y_test,y_pred)*100)\n",
    "print('Confusion matrix: ',confusion_matrix(y_test,y_pred))"
   ]
  },
  {
   "cell_type": "markdown",
   "metadata": {},
   "source": [
    "## Bagging-Naive Bayes"
   ]
  },
  {
   "cell_type": "code",
   "execution_count": 59,
   "metadata": {},
   "outputs": [
    {
     "name": "stdout",
     "output_type": "stream",
     "text": [
      "BaggingClassifier(base_estimator=GaussianNB(priors=None, var_smoothing=1e-09),\n",
      "                  bootstrap=True, bootstrap_features=False, max_features=1.0,\n",
      "                  max_samples=1.0, n_estimators=10, n_jobs=None,\n",
      "                  oob_score=False, random_state=0, verbose=0, warm_start=False)\n"
     ]
    }
   ],
   "source": [
    "model = BaggingClassifier(base_estimator=GaussianNB(),random_state=0)\n",
    "model.fit(X_train, y_train)\n",
    "y_pred = model.predict(X_test)\n",
    "print(model)"
   ]
  },
  {
   "cell_type": "code",
   "execution_count": 60,
   "metadata": {},
   "outputs": [
    {
     "name": "stdout",
     "output_type": "stream",
     "text": [
      "Train Score : 76.32856412876853\n",
      "Test Score : 69.477781381771\n",
      "Precision : 69.477781381771\n",
      "Recall : 69.477781381771\n",
      "F1 Score : 45.51244933410538\n",
      "AUC Score : 73.896462341127\n",
      "Confusion matrix:  [[1749  845]\n",
      " [  96  393]]\n"
     ]
    }
   ],
   "source": [
    "print('Train Score :',model.score(X_train, y_train)*100)\n",
    "print('Test Score :',accuracy_score(y_test, y_pred)*100)\n",
    "print('Precision :',precision_score(y_test,y_pred,average='micro')*100)\n",
    "print('Recall :',recall_score(y_test,y_pred,average='micro')*100)\n",
    "print('F1 Score :',f1_score(y_test,y_pred)*100)\n",
    "print('AUC Score :',roc_auc_score(y_test,y_pred)*100)\n",
    "print('Confusion matrix: ',confusion_matrix(y_test,y_pred))"
   ]
  },
  {
   "cell_type": "markdown",
   "metadata": {},
   "source": [
    "## Boosting-Logistic"
   ]
  },
  {
   "cell_type": "code",
   "execution_count": 61,
   "metadata": {},
   "outputs": [],
   "source": [
    "classifier = AdaBoostClassifier(\n",
    "    LogisticRegression(random_state=0),\n",
    "    n_estimators=200\n",
    ")\n",
    "classifier.fit(X_train, y_train)\n",
    "y_pred = classifier.predict(X_test)"
   ]
  },
  {
   "cell_type": "code",
   "execution_count": 62,
   "metadata": {},
   "outputs": [
    {
     "name": "stdout",
     "output_type": "stream",
     "text": [
      "Train Score : 76.32856412876853\n",
      "Test Score : 78.91663963671748\n",
      "Precision : 78.91663963671748\n",
      "Recall : 78.91663963671748\n",
      "F1 Score : 52.06489675516224\n",
      "AUC Score : 76.18659073242799\n",
      "Confusion matrix:  [[2080  514]\n",
      " [ 136  353]]\n"
     ]
    }
   ],
   "source": [
    "print('Train Score :',model.score(X_train, y_train)*100)\n",
    "print('Test Score :',accuracy_score(y_test, y_pred)*100)\n",
    "print('Precision :',precision_score(y_test,y_pred,average='micro')*100)\n",
    "print('Recall :',recall_score(y_test,y_pred,average='micro')*100)\n",
    "print('F1 Score :',f1_score(y_test,y_pred)*100)\n",
    "print('AUC Score :',roc_auc_score(y_test,y_pred)*100)\n",
    "print('Confusion matrix: ',confusion_matrix(y_test,y_pred))"
   ]
  },
  {
   "cell_type": "markdown",
   "metadata": {},
   "source": [
    "## Boosting-Decision Tree"
   ]
  },
  {
   "cell_type": "code",
   "execution_count": 63,
   "metadata": {},
   "outputs": [],
   "source": [
    "classifier = AdaBoostClassifier(\n",
    "    DecisionTreeClassifier(max_depth=1),\n",
    "    n_estimators=200\n",
    ")\n",
    "classifier.fit(X_train, y_train)\n",
    "y_pred = classifier.predict(X_test)"
   ]
  },
  {
   "cell_type": "code",
   "execution_count": 64,
   "metadata": {},
   "outputs": [
    {
     "name": "stdout",
     "output_type": "stream",
     "text": [
      "Train Score : 76.32856412876853\n",
      "Test Score : 88.06357444048005\n",
      "Precision : 88.06357444048005\n",
      "Recall : 88.06357444048005\n",
      "F1 Score : 65.47842401500937\n",
      "AUC Score : 81.2903144427994\n",
      "Confusion matrix:  [[2366  228]\n",
      " [ 140  349]]\n"
     ]
    }
   ],
   "source": [
    "print('Train Score :',model.score(X_train, y_train)*100)\n",
    "print('Test Score :',accuracy_score(y_test, y_pred)*100)\n",
    "print('Precision :',precision_score(y_test,y_pred,average='micro')*100)\n",
    "print('Recall :',recall_score(y_test,y_pred,average='micro')*100)\n",
    "print('F1 Score :',f1_score(y_test,y_pred)*100)\n",
    "print('AUC Score :',roc_auc_score(y_test,y_pred)*100)\n",
    "print('Confusion matrix: ',confusion_matrix(y_test,y_pred))"
   ]
  },
  {
   "cell_type": "markdown",
   "metadata": {},
   "source": [
    "## Boosting-Random Forest"
   ]
  },
  {
   "cell_type": "code",
   "execution_count": 65,
   "metadata": {},
   "outputs": [],
   "source": [
    "classifier = AdaBoostClassifier(\n",
    "    RandomForestClassifier(max_depth=1),\n",
    "    n_estimators=200\n",
    ")\n",
    "classifier.fit(X_train, y_train)\n",
    "y_pred = classifier.predict(X_test)"
   ]
  },
  {
   "cell_type": "code",
   "execution_count": 66,
   "metadata": {},
   "outputs": [
    {
     "name": "stdout",
     "output_type": "stream",
     "text": [
      "Train Score : 76.32856412876853\n",
      "Test Score : 88.42036976970483\n",
      "Precision : 88.42036976970483\n",
      "Recall : 88.42036976970483\n",
      "F1 Score : 67.03601108033241\n",
      "AUC Score : 82.66398153360043\n",
      "Confusion matrix:  [[2363  231]\n",
      " [ 126  363]]\n"
     ]
    }
   ],
   "source": [
    "print('Train Score :',model.score(X_train, y_train)*100)\n",
    "print('Test Score :',accuracy_score(y_test, y_pred)*100)\n",
    "print('Precision :',precision_score(y_test,y_pred,average='micro')*100)\n",
    "print('Recall :',recall_score(y_test,y_pred,average='micro')*100)\n",
    "print('F1 Score :',f1_score(y_test,y_pred)*100)\n",
    "print('AUC Score :',roc_auc_score(y_test,y_pred)*100)\n",
    "print('Confusion matrix: ',confusion_matrix(y_test,y_pred))"
   ]
  },
  {
   "cell_type": "markdown",
   "metadata": {},
   "source": [
    "## Boosting-Naive Bayes"
   ]
  },
  {
   "cell_type": "code",
   "execution_count": 67,
   "metadata": {},
   "outputs": [],
   "source": [
    "classifier = AdaBoostClassifier(\n",
    "    GaussianNB(),\n",
    "    n_estimators=200\n",
    ")\n",
    "classifier.fit(X_train, y_train)\n",
    "y_pred = classifier.predict(X_test)"
   ]
  },
  {
   "cell_type": "code",
   "execution_count": 68,
   "metadata": {},
   "outputs": [
    {
     "name": "stdout",
     "output_type": "stream",
     "text": [
      "Train Score : 76.32856412876853\n",
      "Test Score : 68.76419072332143\n",
      "Precision : 68.76419072332143\n",
      "Recall : 68.76419072332143\n",
      "F1 Score : 29.55376737381126\n",
      "AUC Score : 57.62432733711428\n",
      "Confusion matrix:  [[1918  676]\n",
      " [ 287  202]]\n"
     ]
    }
   ],
   "source": [
    "print('Train Score :',model.score(X_train, y_train)*100)\n",
    "print('Test Score :',accuracy_score(y_test, y_pred)*100)\n",
    "print('Precision :',precision_score(y_test,y_pred,average='micro')*100)\n",
    "print('Recall :',recall_score(y_test,y_pred,average='micro')*100)\n",
    "print('F1 Score :',f1_score(y_test,y_pred)*100)\n",
    "print('AUC Score :',roc_auc_score(y_test,y_pred)*100)\n",
    "print('Confusion matrix: ',confusion_matrix(y_test,y_pred))"
   ]
  },
  {
   "cell_type": "markdown",
   "metadata": {},
   "source": [
    "## Stacking"
   ]
  },
  {
   "cell_type": "code",
   "execution_count": 69,
   "metadata": {},
   "outputs": [],
   "source": [
    "models = [\n",
    "    LogisticRegression(random_state=0),\n",
    "    DecisionTreeClassifier(random_state=0,criterion='gini',max_depth=5,max_features='auto',splitter='best'),\n",
    "    RandomForestClassifier(random_state=0,criterion='entropy',max_depth=10,max_features='sqrt',n_estimators=75)\n",
    "]"
   ]
  },
  {
   "cell_type": "code",
   "execution_count": 70,
   "metadata": {},
   "outputs": [
    {
     "name": "stdout",
     "output_type": "stream",
     "text": [
      "task:         [classification]\n",
      "n_classes:    [2]\n",
      "metric:       [accuracy_score]\n",
      "mode:         [oof_pred_bag]\n",
      "n_models:     [3]\n",
      "\n",
      "model  0:     [LogisticRegression]\n",
      "    fold  0:  [0.82754216]\n",
      "    fold  1:  [0.82524272]\n",
      "    fold  2:  [0.82166582]\n",
      "    fold  3:  [0.82652018]\n",
      "    ----\n",
      "    MEAN:     [0.82524272] + [0.00222000]\n",
      "    FULL:     [0.82524272]\n",
      "\n",
      "model  1:     [DecisionTreeClassifier]\n",
      "    fold  0:  [0.87966275]\n",
      "    fold  1:  [0.88809402]\n",
      "    fold  2:  [0.86280020]\n",
      "    fold  3:  [0.87531937]\n",
      "    ----\n",
      "    MEAN:     [0.87646909] + [0.00913097]\n",
      "    FULL:     [0.87646909]\n",
      "\n",
      "model  2:     [RandomForestClassifier]\n",
      "    fold  0:  [0.90878896]\n",
      "    fold  1:  [0.90981094]\n",
      "    fold  2:  [0.89141543]\n",
      "    fold  3:  [0.90291262]\n",
      "    ----\n",
      "    MEAN:     [0.90323199] + [0.00731258]\n",
      "    FULL:     [0.90323199]\n",
      "\n"
     ]
    }
   ],
   "source": [
    "S_train, S_test = stacking(models,\n",
    "                           X_train, y_train, X_test,\n",
    "                           regression=False,\n",
    "\n",
    "                           mode='oof_pred_bag',\n",
    "\n",
    "                           needs_proba=False,\n",
    "\n",
    "                           save_dir=None,\n",
    "\n",
    "                           metric=accuracy_score,\n",
    "\n",
    "                           n_folds=4,\n",
    "\n",
    "                           stratified=True,\n",
    "\n",
    "                           shuffle=True,\n",
    "\n",
    "                           random_state=0,\n",
    "\n",
    "                           verbose=2)"
   ]
  },
  {
   "cell_type": "markdown",
   "metadata": {},
   "source": [
    "## PCA"
   ]
  },
  {
   "cell_type": "code",
   "execution_count": 71,
   "metadata": {},
   "outputs": [
    {
     "data": {
      "image/png": "[encoded data removed]",
      "text/plain": [
       "<Figure size 432x288 with 1 Axes>"
      ]
     },
     "metadata": {
      "needs_background": "light"
     },
     "output_type": "display_data"
    }
   ],
   "source": [
    "pca=PCA()\n",
    "X_train=pca.fit_transform(X_train)\n",
    "X_test=pca.transform(X_test)\n",
    "\n",
    "plt.plot(pca.explained_variance_ratio_)\n",
    "plt.xlabel('number of components')\n",
    "plt.ylabel('cumulative explained variance')\n",
    "plt.show()"
   ]
  },
  {
   "cell_type": "code",
   "execution_count": 72,
   "metadata": {},
   "outputs": [],
   "source": [
    "pca=PCA(6)\n",
    "X_train=pca.fit_transform(X_train)\n",
    "X_test=pca.transform(X_test)"
   ]
  },
  {
   "cell_type": "markdown",
   "metadata": {},
   "source": [
    "## Logistic Regression"
   ]
  },
  {
   "cell_type": "code",
   "execution_count": 73,
   "metadata": {},
   "outputs": [],
   "source": [
    "classifier=LogisticRegression(random_state=0)\n",
    "classifier.fit(X_train,y_train)\n",
    "y_pred=classifier.predict(X_test)"
   ]
  },
  {
   "cell_type": "code",
   "execution_count": 74,
   "metadata": {},
   "outputs": [
    {
     "name": "stdout",
     "output_type": "stream",
     "text": [
      "Train Score : 81.98773633111905\n",
      "Test Score : 87.05806033084657\n",
      "Precision : 87.05806033084657\n",
      "Recall : 87.05806033084657\n",
      "F1 Score : 64.53333333333335\n",
      "AUC Score : 81.85442100931361\n",
      "Confusion matrix:  [[2321  273]\n",
      " [ 126  363]]\n"
     ]
    }
   ],
   "source": [
    "print('Train Score :',classifier.score(X_train, y_train)*100)\n",
    "print('Test Score :',accuracy_score(y_test, y_pred)*100)\n",
    "print('Precision :',precision_score(y_test,y_pred,average='micro')*100)\n",
    "print('Recall :',recall_score(y_test,y_pred,average='micro')*100)\n",
    "print('F1 Score :',f1_score(y_test,y_pred)*100)\n",
    "print('AUC Score :',roc_auc_score(y_test,y_pred)*100)\n",
    "print('Confusion matrix: ',confusion_matrix(y_test,y_pred))"
   ]
  },
  {
   "cell_type": "markdown",
   "metadata": {},
   "source": [
    "## Decision Tree"
   ]
  },
  {
   "cell_type": "code",
   "execution_count": 75,
   "metadata": {},
   "outputs": [],
   "source": [
    "classifier=DecisionTreeClassifier(random_state=0,criterion='gini',max_depth=5,max_features='auto',splitter='best')\n",
    "classifier.fit(X_train,y_train)\n",
    "y_pred=classifier.predict(X_test)"
   ]
  },
  {
   "cell_type": "code",
   "execution_count": 76,
   "metadata": {},
   "outputs": [
    {
     "name": "stdout",
     "output_type": "stream",
     "text": [
      "Train Score : 82.90112416964742\n",
      "Test Score : 83.6198507946805\n",
      "Precision : 83.6198507946805\n",
      "Recall : 83.6198507946805\n",
      "F1 Score : 59.95241871530532\n",
      "AUC Score : 81.0558580206328\n",
      "Confusion matrix:  [[2200  394]\n",
      " [ 111  378]]\n"
     ]
    }
   ],
   "source": [
    "print('Train Score :',classifier.score(X_train, y_train)*100)\n",
    "print('Test Score :',accuracy_score(y_test, y_pred)*100)\n",
    "print('Precision :',precision_score(y_test,y_pred,average='micro')*100)\n",
    "print('Recall :',recall_score(y_test,y_pred,average='micro')*100)\n",
    "print('F1 Score :',f1_score(y_test,y_pred)*100)\n",
    "print('AUC Score :',roc_auc_score(y_test,y_pred)*100)\n",
    "print('Confusion matrix: ',confusion_matrix(y_test,y_pred))"
   ]
  },
  {
   "cell_type": "markdown",
   "metadata": {},
   "source": [
    "## Random Forest"
   ]
  },
  {
   "cell_type": "code",
   "execution_count": 77,
   "metadata": {},
   "outputs": [],
   "source": [
    "classifier=RandomForestClassifier(criterion='entropy',max_depth=10,max_features='sqrt',n_estimators=75)\n",
    "classifier.fit(X_train,y_train)\n",
    "y_pred=classifier.predict(X_test)"
   ]
  },
  {
   "cell_type": "code",
   "execution_count": 78,
   "metadata": {},
   "outputs": [
    {
     "name": "stdout",
     "output_type": "stream",
     "text": [
      "Train Score : 90.52120592743996\n",
      "Test Score : 85.59844307492702\n",
      "Precision : 85.59844307492702\n",
      "Recall : 85.59844307492702\n",
      "F1 Score : 62.626262626262616\n",
      "AUC Score : 81.73380287686072\n",
      "Confusion matrix:  [[2267  327]\n",
      " [ 117  372]]\n"
     ]
    }
   ],
   "source": [
    "print('Train Score :',classifier.score(X_train, y_train)*100)\n",
    "print('Test Score :',accuracy_score(y_test, y_pred)*100)\n",
    "print('Precision :',precision_score(y_test,y_pred,average='micro')*100)\n",
    "print('Recall :',recall_score(y_test,y_pred,average='micro')*100)\n",
    "print('F1 Score :',f1_score(y_test,y_pred)*100)\n",
    "print('AUC Score :',roc_auc_score(y_test,y_pred)*100)\n",
    "print('Confusion matrix: ',confusion_matrix(y_test,y_pred))"
   ]
  },
  {
   "cell_type": "markdown",
   "metadata": {},
   "source": [
    "## K-NN"
   ]
  },
  {
   "cell_type": "code",
   "execution_count": 79,
   "metadata": {},
   "outputs": [],
   "source": [
    "classifier=KNeighborsClassifier(n_neighbors=16,weights='uniform')\n",
    "classifier.fit(X_train,y_train)\n",
    "y_pred=classifier.predict(X_test)"
   ]
  },
  {
   "cell_type": "code",
   "execution_count": 80,
   "metadata": {},
   "outputs": [
    {
     "name": "stdout",
     "output_type": "stream",
     "text": [
      "Train Score : 87.80659172202351\n",
      "Test Score : 81.90074602659747\n",
      "Precision : 81.90074602659747\n",
      "Recall : 81.90074602659747\n",
      "F1 Score : 57.3394495412844\n",
      "AUC Score : 79.78534702546224\n",
      "Confusion matrix:  [[2150  444]\n",
      " [ 114  375]]\n"
     ]
    }
   ],
   "source": [
    "print('Train Score :',classifier.score(X_train, y_train)*100)\n",
    "print('Test Score :',accuracy_score(y_test, y_pred)*100)\n",
    "print('Precision :',precision_score(y_test,y_pred,average='micro')*100)\n",
    "print('Recall :',recall_score(y_test,y_pred,average='micro')*100)\n",
    "print('F1 Score :',f1_score(y_test,y_pred)*100)\n",
    "print('AUC Score :',roc_auc_score(y_test,y_pred)*100)\n",
    "print('Confusion matrix: ',confusion_matrix(y_test,y_pred))"
   ]
  },
  {
   "cell_type": "markdown",
   "metadata": {},
   "source": [
    "## Naive Bayes"
   ]
  },
  {
   "cell_type": "code",
   "execution_count": 81,
   "metadata": {},
   "outputs": [],
   "source": [
    "classifier=GaussianNB()\n",
    "classifier.fit(X_train,y_train)\n",
    "y_pred=classifier.predict(X_test)"
   ]
  },
  {
   "cell_type": "code",
   "execution_count": 82,
   "metadata": {},
   "outputs": [
    {
     "name": "stdout",
     "output_type": "stream",
     "text": [
      "Train Score : 71.62110373019928\n",
      "Test Score : 84.13882581900745\n",
      "Precision : 84.13882581900745\n",
      "Recall : 84.13882581900745\n",
      "F1 Score : 51.43992055610725\n",
      "AUC Score : 71.49032768714336\n",
      "Confusion matrix:  [[2335  259]\n",
      " [ 230  259]]\n"
     ]
    }
   ],
   "source": [
    "print('Train Score :',classifier.score(X_train, y_train)*100)\n",
    "print('Test Score :',accuracy_score(y_test, y_pred)*100)\n",
    "print('Precision :',precision_score(y_test,y_pred,average='micro')*100)\n",
    "print('Recall :',recall_score(y_test,y_pred,average='micro')*100)\n",
    "print('F1 Score :',f1_score(y_test,y_pred)*100)\n",
    "print('AUC Score :',roc_auc_score(y_test,y_pred)*100)\n",
    "print('Confusion matrix: ',confusion_matrix(y_test,y_pred))"
   ]
  },
  {
   "cell_type": "code",
   "execution_count": null,
   "metadata": {},
   "outputs": [],
   "source": []
  },
  {
   "cell_type": "code",
   "execution_count": null,
   "metadata": {},
   "outputs": [],
   "source": []
  },
  {
   "cell_type": "code",
   "execution_count": null,
   "metadata": {},
   "outputs": [],
   "source": []
  },
  {
   "cell_type": "code",
   "execution_count": null,
   "metadata": {},
   "outputs": [],
   "source": []
  }
 ],
 "metadata": {
  "kernelspec": {
   "display_name": "Python 3",
   "language": "python",
   "name": "python3"
  },
  "language_info": {
   "codemirror_mode": {
    "name": "ipython",
    "version": 3
   },
   "file_extension": ".py",
   "mimetype": "text/x-python",
   "name": "python",
   "nbconvert_exporter": "python",
   "pygments_lexer": "ipython3",
   "version": "3.7.3"
  }
 },
 "nbformat": 4,
 "nbformat_minor": 2
}
